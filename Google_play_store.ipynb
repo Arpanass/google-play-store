{
 "cells": [
  {
   "cell_type": "code",
   "execution_count": 1,
   "id": "5ddd1452",
   "metadata": {},
   "outputs": [],
   "source": [
    "# Project(Programming Basics and Data Analytics with Python)\n",
    "#Arpana Singh"
   ]
  },
  {
   "cell_type": "code",
   "execution_count": 2,
   "id": "4e767927",
   "metadata": {},
   "outputs": [],
   "source": [
    "#Importing library\n",
    "import pandas as pd\n",
    "import numpy as np"
   ]
  },
  {
   "cell_type": "markdown",
   "id": "d16d75f5",
   "metadata": {},
   "source": [
    "### 1 : Load the data file using pandas. "
   ]
  },
  {
   "cell_type": "code",
   "execution_count": 3,
   "id": "53ac05c4",
   "metadata": {},
   "outputs": [],
   "source": [
    "#Reading csv file with read_csv\n",
    "\n",
    "df_proj = pd.read_csv('1569582940_googleplaystore.zip')"
   ]
  },
  {
   "cell_type": "code",
   "execution_count": 6,
   "id": "b5a7c76e",
   "metadata": {},
   "outputs": [
    {
     "data": {
      "text/plain": [
       "array([ 4.1,  3.9,  4.7,  4.5,  4.3,  4.4,  3.8,  4.2,  4.6,  3.2,  4. ,\n",
       "        nan,  4.8,  4.9,  3.6,  3.7,  3.3,  3.4,  3.5,  3.1,  5. ,  2.6,\n",
       "        3. ,  1.9,  2.5,  2.8,  2.7,  1. ,  2.9,  2.3,  2.2,  1.7,  2. ,\n",
       "        1.8,  2.4,  1.6,  2.1,  1.4,  1.5,  1.2, 19. ])"
      ]
     },
     "execution_count": 6,
     "metadata": {},
     "output_type": "execute_result"
    }
   ],
   "source": [
    "df_proj['Rating'].unique()"
   ]
  },
  {
   "cell_type": "code",
   "execution_count": 8,
   "id": "de764b99",
   "metadata": {},
   "outputs": [],
   "source": [
    "#Making copy of dataset\n",
    "df_proj1= df_proj.copy(deep=True)"
   ]
  },
  {
   "cell_type": "code",
   "execution_count": 9,
   "id": "2862ae78",
   "metadata": {},
   "outputs": [
    {
     "data": {
      "text/plain": [
       "(10841, 13)"
      ]
     },
     "execution_count": 9,
     "metadata": {},
     "output_type": "execute_result"
    }
   ],
   "source": [
    "df_proj1.shape"
   ]
  },
  {
   "cell_type": "code",
   "execution_count": 10,
   "id": "d01f1e03",
   "metadata": {},
   "outputs": [
    {
     "data": {
      "text/plain": [
       "Index(['App', 'Category', 'Rating', 'Reviews', 'Size', 'Installs', 'Type',\n",
       "       'Price', 'Content Rating', 'Genres', 'Last Updated', 'Current Ver',\n",
       "       'Android Ver'],\n",
       "      dtype='object')"
      ]
     },
     "execution_count": 10,
     "metadata": {},
     "output_type": "execute_result"
    }
   ],
   "source": [
    "#checking columns.\n",
    "df_proj1.columns"
   ]
  },
  {
   "cell_type": "code",
   "execution_count": 11,
   "id": "0f4e1572",
   "metadata": {},
   "outputs": [
    {
     "name": "stdout",
     "output_type": "stream",
     "text": [
      "<class 'pandas.core.frame.DataFrame'>\n",
      "RangeIndex: 10841 entries, 0 to 10840\n",
      "Data columns (total 13 columns):\n",
      " #   Column          Non-Null Count  Dtype  \n",
      "---  ------          --------------  -----  \n",
      " 0   App             10841 non-null  object \n",
      " 1   Category        10841 non-null  object \n",
      " 2   Rating          9367 non-null   float64\n",
      " 3   Reviews         10841 non-null  object \n",
      " 4   Size            10841 non-null  object \n",
      " 5   Installs        10841 non-null  object \n",
      " 6   Type            10840 non-null  object \n",
      " 7   Price           10841 non-null  object \n",
      " 8   Content Rating  10840 non-null  object \n",
      " 9   Genres          10841 non-null  object \n",
      " 10  Last Updated    10841 non-null  object \n",
      " 11  Current Ver     10833 non-null  object \n",
      " 12  Android Ver     10838 non-null  object \n",
      "dtypes: float64(1), object(12)\n",
      "memory usage: 1.1+ MB\n"
     ]
    }
   ],
   "source": [
    "df_proj1.info()   # understanding the dataset"
   ]
  },
  {
   "cell_type": "code",
   "execution_count": 12,
   "id": "6cc2ef79",
   "metadata": {},
   "outputs": [
    {
     "data": {
      "text/html": [
       "<div>\n",
       "<style scoped>\n",
       "    .dataframe tbody tr th:only-of-type {\n",
       "        vertical-align: middle;\n",
       "    }\n",
       "\n",
       "    .dataframe tbody tr th {\n",
       "        vertical-align: top;\n",
       "    }\n",
       "\n",
       "    .dataframe thead th {\n",
       "        text-align: right;\n",
       "    }\n",
       "</style>\n",
       "<table border=\"1\" class=\"dataframe\">\n",
       "  <thead>\n",
       "    <tr style=\"text-align: right;\">\n",
       "      <th></th>\n",
       "      <th>Rating</th>\n",
       "    </tr>\n",
       "  </thead>\n",
       "  <tbody>\n",
       "    <tr>\n",
       "      <th>count</th>\n",
       "      <td>9367.000000</td>\n",
       "    </tr>\n",
       "    <tr>\n",
       "      <th>mean</th>\n",
       "      <td>4.193338</td>\n",
       "    </tr>\n",
       "    <tr>\n",
       "      <th>std</th>\n",
       "      <td>0.537431</td>\n",
       "    </tr>\n",
       "    <tr>\n",
       "      <th>min</th>\n",
       "      <td>1.000000</td>\n",
       "    </tr>\n",
       "    <tr>\n",
       "      <th>25%</th>\n",
       "      <td>4.000000</td>\n",
       "    </tr>\n",
       "    <tr>\n",
       "      <th>50%</th>\n",
       "      <td>4.300000</td>\n",
       "    </tr>\n",
       "    <tr>\n",
       "      <th>75%</th>\n",
       "      <td>4.500000</td>\n",
       "    </tr>\n",
       "    <tr>\n",
       "      <th>max</th>\n",
       "      <td>19.000000</td>\n",
       "    </tr>\n",
       "  </tbody>\n",
       "</table>\n",
       "</div>"
      ],
      "text/plain": [
       "            Rating\n",
       "count  9367.000000\n",
       "mean      4.193338\n",
       "std       0.537431\n",
       "min       1.000000\n",
       "25%       4.000000\n",
       "50%       4.300000\n",
       "75%       4.500000\n",
       "max      19.000000"
      ]
     },
     "execution_count": 12,
     "metadata": {},
     "output_type": "execute_result"
    }
   ],
   "source": [
    "df_proj1.describe() #checking count, mean median, mode std and quantile of int variable. "
   ]
  },
  {
   "cell_type": "code",
   "execution_count": 9,
   "id": "5cfb0918",
   "metadata": {},
   "outputs": [
    {
     "data": {
      "text/html": [
       "<div>\n",
       "<style scoped>\n",
       "    .dataframe tbody tr th:only-of-type {\n",
       "        vertical-align: middle;\n",
       "    }\n",
       "\n",
       "    .dataframe tbody tr th {\n",
       "        vertical-align: top;\n",
       "    }\n",
       "\n",
       "    .dataframe thead th {\n",
       "        text-align: right;\n",
       "    }\n",
       "</style>\n",
       "<table border=\"1\" class=\"dataframe\">\n",
       "  <thead>\n",
       "    <tr style=\"text-align: right;\">\n",
       "      <th></th>\n",
       "      <th>App</th>\n",
       "      <th>Category</th>\n",
       "      <th>Rating</th>\n",
       "      <th>Reviews</th>\n",
       "      <th>Size</th>\n",
       "      <th>Installs</th>\n",
       "      <th>Type</th>\n",
       "      <th>Price</th>\n",
       "      <th>Content Rating</th>\n",
       "      <th>Genres</th>\n",
       "      <th>Last Updated</th>\n",
       "      <th>Current Ver</th>\n",
       "      <th>Android Ver</th>\n",
       "    </tr>\n",
       "  </thead>\n",
       "  <tbody>\n",
       "    <tr>\n",
       "      <th>0</th>\n",
       "      <td>Photo Editor &amp; Candy Camera &amp; Grid &amp; ScrapBook</td>\n",
       "      <td>ART_AND_DESIGN</td>\n",
       "      <td>4.1</td>\n",
       "      <td>159</td>\n",
       "      <td>19M</td>\n",
       "      <td>10,000+</td>\n",
       "      <td>Free</td>\n",
       "      <td>0</td>\n",
       "      <td>Everyone</td>\n",
       "      <td>Art &amp; Design</td>\n",
       "      <td>January 7, 2018</td>\n",
       "      <td>1.0.0</td>\n",
       "      <td>4.0.3 and up</td>\n",
       "    </tr>\n",
       "    <tr>\n",
       "      <th>1</th>\n",
       "      <td>Coloring book moana</td>\n",
       "      <td>ART_AND_DESIGN</td>\n",
       "      <td>3.9</td>\n",
       "      <td>967</td>\n",
       "      <td>14M</td>\n",
       "      <td>500,000+</td>\n",
       "      <td>Free</td>\n",
       "      <td>0</td>\n",
       "      <td>Everyone</td>\n",
       "      <td>Art &amp; Design;Pretend Play</td>\n",
       "      <td>January 15, 2018</td>\n",
       "      <td>2.0.0</td>\n",
       "      <td>4.0.3 and up</td>\n",
       "    </tr>\n",
       "    <tr>\n",
       "      <th>2</th>\n",
       "      <td>U Launcher Lite – FREE Live Cool Themes, Hide ...</td>\n",
       "      <td>ART_AND_DESIGN</td>\n",
       "      <td>4.7</td>\n",
       "      <td>87510</td>\n",
       "      <td>8.7M</td>\n",
       "      <td>5,000,000+</td>\n",
       "      <td>Free</td>\n",
       "      <td>0</td>\n",
       "      <td>Everyone</td>\n",
       "      <td>Art &amp; Design</td>\n",
       "      <td>August 1, 2018</td>\n",
       "      <td>1.2.4</td>\n",
       "      <td>4.0.3 and up</td>\n",
       "    </tr>\n",
       "  </tbody>\n",
       "</table>\n",
       "</div>"
      ],
      "text/plain": [
       "                                                 App        Category  Rating  \\\n",
       "0     Photo Editor & Candy Camera & Grid & ScrapBook  ART_AND_DESIGN     4.1   \n",
       "1                                Coloring book moana  ART_AND_DESIGN     3.9   \n",
       "2  U Launcher Lite – FREE Live Cool Themes, Hide ...  ART_AND_DESIGN     4.7   \n",
       "\n",
       "  Reviews  Size    Installs  Type Price Content Rating  \\\n",
       "0     159   19M     10,000+  Free     0       Everyone   \n",
       "1     967   14M    500,000+  Free     0       Everyone   \n",
       "2   87510  8.7M  5,000,000+  Free     0       Everyone   \n",
       "\n",
       "                      Genres      Last Updated Current Ver   Android Ver  \n",
       "0               Art & Design   January 7, 2018       1.0.0  4.0.3 and up  \n",
       "1  Art & Design;Pretend Play  January 15, 2018       2.0.0  4.0.3 and up  \n",
       "2               Art & Design    August 1, 2018       1.2.4  4.0.3 and up  "
      ]
     },
     "execution_count": 9,
     "metadata": {},
     "output_type": "execute_result"
    }
   ],
   "source": [
    "# check top 3 columns \n",
    "df_proj1.head(3)"
   ]
  },
  {
   "cell_type": "markdown",
   "id": "b289ee16",
   "metadata": {},
   "source": [
    "## 2: Check for null values in the data. Get the number of null values for each column."
   ]
  },
  {
   "cell_type": "code",
   "execution_count": 10,
   "id": "8bc50369",
   "metadata": {},
   "outputs": [
    {
     "data": {
      "text/plain": [
       "App                  0\n",
       "Category             0\n",
       "Rating            1474\n",
       "Reviews              0\n",
       "Size                 0\n",
       "Installs             0\n",
       "Type                 1\n",
       "Price                0\n",
       "Content Rating       1\n",
       "Genres               0\n",
       "Last Updated         0\n",
       "Current Ver          8\n",
       "Android Ver          3\n",
       "dtype: int64"
      ]
     },
     "execution_count": 10,
     "metadata": {},
     "output_type": "execute_result"
    }
   ],
   "source": [
    "#cheking null values\n",
    "\n",
    "#Rating feature has 1474 null value\n",
    "#Type has 1 null value\n",
    "#Content rating has 1 null value\n",
    "#Current var has 8 null values\n",
    "#Android Var 3 null values\n",
    "df_proj1.isnull().sum()"
   ]
  },
  {
   "cell_type": "markdown",
   "id": "82995085",
   "metadata": {},
   "source": [
    "##  3: Drop records with nulls in any of the columns. "
   ]
  },
  {
   "cell_type": "code",
   "execution_count": 11,
   "id": "ce4a8323",
   "metadata": {},
   "outputs": [
    {
     "data": {
      "text/plain": [
       "(9360, 13)"
      ]
     },
     "execution_count": 11,
     "metadata": {},
     "output_type": "execute_result"
    }
   ],
   "source": [
    "#Dropping null values\n",
    "\n",
    "#Finding---> Before dropping null values total records were (10841, 13)\n",
    "#Finding---> After dropping null values total records are   (9360 ,13)\n",
    "\n",
    "df_proj1=df_proj1.dropna()\n",
    "df_proj1.shape"
   ]
  },
  {
   "cell_type": "markdown",
   "id": "0246c2aa",
   "metadata": {},
   "source": [
    "##  4 : Variables seem to have incorrect type and inconsistent formatting. You need to fix them: \n",
    "\n",
    "### 4:1  Size column has sizes in Kb as well as Mb. To analyze, you’ll need to convert these to numeric.\n",
    "\n",
    "        1:1 Extract the numeric value from the column\n",
    "\n",
    "        1:2 Multiply the value by 1,000, if size is mentioned in Mb"
   ]
  },
  {
   "cell_type": "code",
   "execution_count": 12,
   "id": "00db71c9",
   "metadata": {},
   "outputs": [
    {
     "name": "stdout",
     "output_type": "stream",
     "text": [
      "0      19M\n",
      "1      14M\n",
      "2     8.7M\n",
      "3      25M\n",
      "4     2.8M\n",
      "5     5.6M\n",
      "6      19M\n",
      "7      29M\n",
      "8      33M\n",
      "9     3.1M\n",
      "10     28M\n",
      "11     12M\n",
      "12     20M\n",
      "13     21M\n",
      "14     37M\n",
      "16    5.5M\n",
      "17     17M\n",
      "18     39M\n",
      "19     31M\n",
      "20     14M\n",
      "Name: Size, dtype: object\n"
     ]
    }
   ],
   "source": [
    "df_proj1.Size = df_proj1.Size.replace('Varies with device','0k')\n",
    "print(df_proj1.Size.head(20))\n",
    "\n",
    "df_proj1['Measure'] = df_proj1['Size'].str[-1:]\n",
    "df_proj1['Size']=df_proj1['Size'].replace({'M':'', 'k':'', 'K':''}, regex=True)\n",
    "\n",
    "#change datatype\n",
    "df_proj1['Size']=df_proj1['Size'].astype(float)\n",
    "\n",
    "df_proj1['Size'] = np.where(df_proj1['Measure'] == 'M',df_proj1['Size'] * 1000,df_proj1['Size'])\n",
    "\n"
   ]
  },
  {
   "cell_type": "code",
   "execution_count": 13,
   "id": "a0270588",
   "metadata": {},
   "outputs": [
    {
     "name": "stdout",
     "output_type": "stream",
     "text": [
      "10817     8000.0\n",
      "10819     3600.0\n",
      "10820     8600.0\n",
      "10826        0.0\n",
      "10827    13000.0\n",
      "10828    13000.0\n",
      "10829     7400.0\n",
      "10830     2300.0\n",
      "10832      582.0\n",
      "10833      619.0\n",
      "10834     2600.0\n",
      "10836    53000.0\n",
      "10837     3600.0\n",
      "10839        0.0\n",
      "10840    19000.0\n",
      "Name: Size, dtype: float64\n"
     ]
    }
   ],
   "source": [
    "df_proj1 = df_proj1.drop(['Measure'], axis =1)\n",
    "print(df_proj1.Size.tail(15))\n",
    "# Now we have removed the 'M' and 'k' alphabet from the data and multiply those values where 'M' is present"
   ]
  },
  {
   "cell_type": "markdown",
   "id": "b6e40ff6",
   "metadata": {},
   "source": [
    "## 4: 2 Reviews is a numeric field that is loaded as a string field. Convert it to numeric (int/float).\n",
    "\n"
   ]
  },
  {
   "cell_type": "code",
   "execution_count": 14,
   "id": "510566af",
   "metadata": {},
   "outputs": [],
   "source": [
    "df_proj1['Reviews']=df_proj1['Reviews'].astype(int)   #coverting datatype of review to int from string"
   ]
  },
  {
   "cell_type": "code",
   "execution_count": 15,
   "id": "23279bda",
   "metadata": {},
   "outputs": [
    {
     "data": {
      "text/plain": [
       "dtype('int64')"
      ]
     },
     "execution_count": 15,
     "metadata": {},
     "output_type": "execute_result"
    }
   ],
   "source": [
    "df_proj1['Reviews'].dtypes"
   ]
  },
  {
   "cell_type": "code",
   "execution_count": 16,
   "id": "8cae7830",
   "metadata": {},
   "outputs": [
    {
     "data": {
      "text/plain": [
       "(9360, 13)"
      ]
     },
     "execution_count": 16,
     "metadata": {},
     "output_type": "execute_result"
    }
   ],
   "source": [
    "df_proj1.shape"
   ]
  },
  {
   "cell_type": "markdown",
   "id": "21a44e24",
   "metadata": {},
   "source": [
    "## 4: 3 Installs field is currently stored as string and has values like 1,000,000+. \n",
    "\n",
    "        Treat 1,000,000+ as 1,000,000\n",
    "\n",
    "        remove ‘+’, ‘,’ from the field, convert it to integer"
   ]
  },
  {
   "cell_type": "code",
   "execution_count": 17,
   "id": "83e9f6f0",
   "metadata": {},
   "outputs": [],
   "source": [
    "df_proj1['Installs']=df_proj1['Installs'].str[:-1]"
   ]
  },
  {
   "cell_type": "code",
   "execution_count": 18,
   "id": "8d3f5c56",
   "metadata": {},
   "outputs": [],
   "source": [
    "df_proj1['Installs']=df_proj1['Installs'].replace(\",\",\"\",regex=True).astype(int)\n",
    "#removing \"+\" and \",\" from \"Installs\" field. "
   ]
  },
  {
   "cell_type": "code",
   "execution_count": 19,
   "id": "8ffec586",
   "metadata": {},
   "outputs": [
    {
     "data": {
      "text/plain": [
       "0       10000\n",
       "1      500000\n",
       "2     5000000\n",
       "3    50000000\n",
       "4      100000\n",
       "Name: Installs, dtype: int64"
      ]
     },
     "execution_count": 19,
     "metadata": {},
     "output_type": "execute_result"
    }
   ],
   "source": [
    "df_proj1['Installs'].head()"
   ]
  },
  {
   "cell_type": "code",
   "execution_count": 20,
   "id": "d3ef1668",
   "metadata": {},
   "outputs": [
    {
     "data": {
      "text/plain": [
       "(9360, 13)"
      ]
     },
     "execution_count": 20,
     "metadata": {},
     "output_type": "execute_result"
    }
   ],
   "source": [
    "df_proj1.shape"
   ]
  },
  {
   "cell_type": "markdown",
   "id": "33ea6b01",
   "metadata": {},
   "source": [
    "##  4:4 Price field is a string and has dollar symbol. Remove dollar sign, and convert it to numeric."
   ]
  },
  {
   "cell_type": "code",
   "execution_count": 21,
   "id": "bff357c0",
   "metadata": {},
   "outputs": [],
   "source": [
    "df_proj1.Price = df_proj1.Price.str.lstrip(\"$\").astype(float) \n",
    "#removing \"$\" sign from \"Price\" field and converting it int."
   ]
  },
  {
   "cell_type": "code",
   "execution_count": 22,
   "id": "d3494ef7",
   "metadata": {},
   "outputs": [
    {
     "data": {
      "text/plain": [
       "dtype('float64')"
      ]
     },
     "execution_count": 22,
     "metadata": {},
     "output_type": "execute_result"
    }
   ],
   "source": [
    "df_proj1.Price.dtypes"
   ]
  },
  {
   "cell_type": "code",
   "execution_count": 23,
   "id": "62aeec9a",
   "metadata": {},
   "outputs": [
    {
     "data": {
      "text/plain": [
       "0    0.0\n",
       "1    0.0\n",
       "2    0.0\n",
       "3    0.0\n",
       "4    0.0\n",
       "Name: Price, dtype: float64"
      ]
     },
     "execution_count": 23,
     "metadata": {},
     "output_type": "execute_result"
    }
   ],
   "source": [
    "df_proj1['Price'].head()"
   ]
  },
  {
   "cell_type": "code",
   "execution_count": 24,
   "id": "daec4b7d",
   "metadata": {},
   "outputs": [
    {
     "data": {
      "text/plain": [
       "(9360, 13)"
      ]
     },
     "execution_count": 24,
     "metadata": {},
     "output_type": "execute_result"
    }
   ],
   "source": [
    "df_proj1.shape"
   ]
  },
  {
   "cell_type": "markdown",
   "id": "d5116a63",
   "metadata": {},
   "source": [
    "# 5: Sanity checks:"
   ]
  },
  {
   "cell_type": "markdown",
   "id": "658fd116",
   "metadata": {},
   "source": [
    "## 5:1 Average rating should be between 1 and 5 as only these values are allowed on the play store. \n",
    "\n",
    "Drop the rows that have a value outside this range."
   ]
  },
  {
   "cell_type": "code",
   "execution_count": 25,
   "id": "4b743b34",
   "metadata": {},
   "outputs": [
    {
     "data": {
      "text/plain": [
       "(Empty DataFrame\n",
       " Columns: [App, Category, Rating, Reviews, Size, Installs, Type, Price, Content Rating, Genres, Last Updated, Current Ver, Android Ver]\n",
       " Index: [],\n",
       " Empty DataFrame\n",
       " Columns: [App, Category, Rating, Reviews, Size, Installs, Type, Price, Content Rating, Genres, Last Updated, Current Ver, Android Ver]\n",
       " Index: [])"
      ]
     },
     "execution_count": 25,
     "metadata": {},
     "output_type": "execute_result"
    }
   ],
   "source": [
    "df_filtered = df_proj1[df_proj1['Rating'] < 1],df_proj1[df_proj1['Rating'] >5]\n",
    "df_filtered\n",
    "#\"Rating\" field has no value <1 and  >5 it seems, because when I checked the shape before and after it is the same.\n"
   ]
  },
  {
   "cell_type": "markdown",
   "id": "71e6e8c6",
   "metadata": {},
   "source": [
    "## 5:2 Reviews should not be more than installs as only those who installed can review the app. \n",
    "\n",
    "If there are any such records, drop them.\n",
    "\n"
   ]
  },
  {
   "cell_type": "code",
   "execution_count": 26,
   "id": "6c7743fb",
   "metadata": {},
   "outputs": [
    {
     "data": {
      "text/plain": [
       "(9360, 13)"
      ]
     },
     "execution_count": 26,
     "metadata": {},
     "output_type": "execute_result"
    }
   ],
   "source": [
    "df_proj1.shape"
   ]
  },
  {
   "cell_type": "code",
   "execution_count": 27,
   "id": "f5be6f01",
   "metadata": {},
   "outputs": [
    {
     "name": "stdout",
     "output_type": "stream",
     "text": [
      "None\n",
      "(9353, 13)\n"
     ]
    }
   ],
   "source": [
    "temp = df_proj1.drop(df_proj1[(df_proj1.Reviews) > (df_proj1.Installs)].index, inplace=True, axis=0)\n",
    "print(temp)\n",
    "print(df_proj1.shape)\n",
    "# 7 Review field had value more than Installs, which has been dropped."
   ]
  },
  {
   "cell_type": "markdown",
   "id": "0c43decb",
   "metadata": {},
   "source": [
    "## 5:3For free apps (type = “Free”), the price should not be >0. Drop any such rows"
   ]
  },
  {
   "cell_type": "code",
   "execution_count": 28,
   "id": "b929ced5",
   "metadata": {},
   "outputs": [
    {
     "name": "stdout",
     "output_type": "stream",
     "text": [
      "None\n"
     ]
    }
   ],
   "source": [
    "temp1 = df_proj1.drop(df_proj1[(df_proj1.Type=='Free') & (df_proj1.Price>0)].index, inplace=True,axis=0)\n",
    "print(temp1)\n",
    "# No Free App is having Price less than 0."
   ]
  },
  {
   "cell_type": "markdown",
   "id": "4fbd09a7",
   "metadata": {},
   "source": [
    "## 5: Performing univariate analysis: \n",
    "\n",
    "###  - Boxplot for Price\n",
    "\n",
    "- Are there any outliers? Think about the price of usual apps on Play Store.\n"
   ]
  },
  {
   "cell_type": "code",
   "execution_count": 29,
   "id": "4c62a5f0",
   "metadata": {},
   "outputs": [],
   "source": [
    "import matplotlib.pyplot as plt\n",
    "%matplotlib inline\n",
    "import seaborn as sns"
   ]
  },
  {
   "cell_type": "code",
   "execution_count": 30,
   "id": "7c1246f6",
   "metadata": {},
   "outputs": [
    {
     "data": {
      "text/plain": [
       "<seaborn.axisgrid.PairGrid at 0x12286c070>"
      ]
     },
     "execution_count": 30,
     "metadata": {},
     "output_type": "execute_result"
    },
    {
     "data": {
      "image/png": "[encoded data removed]",
      "text/plain": [
       "<Figure size 900x900 with 30 Axes>"
      ]
     },
     "metadata": {
      "needs_background": "light"
     },
     "output_type": "display_data"
    }
   ],
   "source": [
    "sns.pairplot(df_proj1)\n",
    "# pairplot shows all possible relationship among all the variables."
   ]
  },
  {
   "cell_type": "code",
   "execution_count": 31,
   "id": "3d32d5dd",
   "metadata": {},
   "outputs": [
    {
     "data": {
      "text/plain": [
       "{'whiskers': [<matplotlib.lines.Line2D at 0x12a6fdf70>,\n",
       "  <matplotlib.lines.Line2D at 0x12a6fd4c0>],\n",
       " 'caps': [<matplotlib.lines.Line2D at 0x12a71cca0>,\n",
       "  <matplotlib.lines.Line2D at 0x12a71c970>],\n",
       " 'boxes': [<matplotlib.lines.Line2D at 0x12a6de580>],\n",
       " 'medians': [<matplotlib.lines.Line2D at 0x12a72b820>],\n",
       " 'fliers': [<matplotlib.lines.Line2D at 0x12a74ad00>],\n",
       " 'means': []}"
      ]
     },
     "execution_count": 31,
     "metadata": {},
     "output_type": "execute_result"
    },
    {
     "data": {
      "image/png": "[encoded data removed]",
      "text/plain": [
       "<Figure size 432x288 with 1 Axes>"
      ]
     },
     "metadata": {
      "needs_background": "light"
     },
     "output_type": "display_data"
    }
   ],
   "source": [
    "plt.boxplot(df_proj1['Price'])\n",
    "# boxplot shows that Price field is having outliers."
   ]
  },
  {
   "cell_type": "markdown",
   "id": "3034c7f2",
   "metadata": {},
   "source": [
    "## Boxplot for Reviews\n",
    "\n",
    "- Are there any apps with very high number of reviews? Do the values seem right?\n"
   ]
  },
  {
   "cell_type": "code",
   "execution_count": 32,
   "id": "15c56ef8",
   "metadata": {},
   "outputs": [
    {
     "data": {
      "text/plain": [
       "{'whiskers': [<matplotlib.lines.Line2D at 0x12c00cbb0>,\n",
       "  <matplotlib.lines.Line2D at 0x12c0156d0>],\n",
       " 'caps': [<matplotlib.lines.Line2D at 0x122d0d730>,\n",
       "  <matplotlib.lines.Line2D at 0x12c01ea90>],\n",
       " 'boxes': [<matplotlib.lines.Line2D at 0x122a60880>],\n",
       " 'medians': [<matplotlib.lines.Line2D at 0x122ccfac0>],\n",
       " 'fliers': [<matplotlib.lines.Line2D at 0x12c02ec10>],\n",
       " 'means': []}"
      ]
     },
     "execution_count": 32,
     "metadata": {},
     "output_type": "execute_result"
    },
    {
     "data": {
      "image/png": "[encoded data removed]",
      "text/plain": [
       "<Figure size 432x288 with 1 Axes>"
      ]
     },
     "metadata": {
      "needs_background": "light"
     },
     "output_type": "display_data"
    }
   ],
   "source": [
    "plt.boxplot(df_proj1['Reviews'])\n",
    "#Reviews field is also having outliers."
   ]
  },
  {
   "cell_type": "markdown",
   "id": "76322e8a",
   "metadata": {},
   "source": [
    "## Histogram for Rating\n",
    "\n",
    "How are the ratings distributed? Is it more toward higher ratings?\n",
    "\n"
   ]
  },
  {
   "cell_type": "code",
   "execution_count": 33,
   "id": "6bf6d441",
   "metadata": {},
   "outputs": [
    {
     "data": {
      "text/plain": [
       "(array([  17.,   18.,   41.,   74.,  137.,  445.,  879., 1660., 4172.,\n",
       "        1910.]),\n",
       " array([1. , 1.4, 1.8, 2.2, 2.6, 3. , 3.4, 3.8, 4.2, 4.6, 5. ]),\n",
       " <BarContainer object of 10 artists>)"
      ]
     },
     "execution_count": 33,
     "metadata": {},
     "output_type": "execute_result"
    },
    {
     "data": {
      "image/png": "[encoded data removed]",
      "text/plain": [
       "<Figure size 432x288 with 1 Axes>"
      ]
     },
     "metadata": {
      "needs_background": "light"
     },
     "output_type": "display_data"
    }
   ],
   "source": [
    "plt.hist(df_proj1.Rating)\n",
    "# The rating is not noramlly distributed because there is left skew and \n",
    "#the rating values is more towards higher ratings."
   ]
  },
  {
   "cell_type": "markdown",
   "id": "5d679305",
   "metadata": {},
   "source": [
    "## Histogram for Size\n",
    "\n",
    "Note down your observations for the plots made above. Which of these seem to have outliers?\n",
    "\n",
    " \n",
    "\n"
   ]
  },
  {
   "cell_type": "code",
   "execution_count": 34,
   "id": "dcdb3499",
   "metadata": {},
   "outputs": [
    {
     "data": {
      "text/plain": [
       "(array([4779., 1386., 1036.,  617.,  464.,  334.,  234.,  174.,  125.,\n",
       "         204.]),\n",
       " array([     0.,  10000.,  20000.,  30000.,  40000.,  50000.,  60000.,\n",
       "         70000.,  80000.,  90000., 100000.]),\n",
       " <BarContainer object of 10 artists>)"
      ]
     },
     "execution_count": 34,
     "metadata": {},
     "output_type": "execute_result"
    },
    {
     "data": {
      "image/png": "[encoded data removed]",
      "text/plain": [
       "<Figure size 432x288 with 1 Axes>"
      ]
     },
     "metadata": {
      "needs_background": "light"
     },
     "output_type": "display_data"
    }
   ],
   "source": [
    "plt.hist(df_proj1.Size)\n",
    "# Size column is not normally distributed because it is having right skew."
   ]
  },
  {
   "cell_type": "markdown",
   "id": "d9c9f46a",
   "metadata": {},
   "source": [
    "## 6:1 Price: From the box plot, it seems like there are some apps with very high price. A price of $200 for an application on the Play Store is very high and suspicious!\n",
    "\n",
    "6:1: Check out the records with very high price\n",
    "\n",
    "6:1:1 Is 200 indeed a high price?\n",
    "\n",
    "6:1:2 Drop these as most seem to be junk apps"
   ]
  },
  {
   "cell_type": "code",
   "execution_count": 35,
   "id": "952696d5",
   "metadata": {},
   "outputs": [
    {
     "data": {
      "text/html": [
       "<div>\n",
       "<style scoped>\n",
       "    .dataframe tbody tr th:only-of-type {\n",
       "        vertical-align: middle;\n",
       "    }\n",
       "\n",
       "    .dataframe tbody tr th {\n",
       "        vertical-align: top;\n",
       "    }\n",
       "\n",
       "    .dataframe thead th {\n",
       "        text-align: right;\n",
       "    }\n",
       "</style>\n",
       "<table border=\"1\" class=\"dataframe\">\n",
       "  <thead>\n",
       "    <tr style=\"text-align: right;\">\n",
       "      <th></th>\n",
       "      <th>Rating</th>\n",
       "      <th>Reviews</th>\n",
       "      <th>Size</th>\n",
       "      <th>Installs</th>\n",
       "      <th>Price</th>\n",
       "    </tr>\n",
       "  </thead>\n",
       "  <tbody>\n",
       "    <tr>\n",
       "      <th>count</th>\n",
       "      <td>9353.000000</td>\n",
       "      <td>9.353000e+03</td>\n",
       "      <td>9353.000000</td>\n",
       "      <td>9.353000e+03</td>\n",
       "      <td>9353.000000</td>\n",
       "    </tr>\n",
       "    <tr>\n",
       "      <th>mean</th>\n",
       "      <td>4.191254</td>\n",
       "      <td>5.147606e+05</td>\n",
       "      <td>18957.610660</td>\n",
       "      <td>1.792215e+07</td>\n",
       "      <td>0.961467</td>\n",
       "    </tr>\n",
       "    <tr>\n",
       "      <th>std</th>\n",
       "      <td>0.515010</td>\n",
       "      <td>3.146169e+06</td>\n",
       "      <td>23025.327915</td>\n",
       "      <td>9.129920e+07</td>\n",
       "      <td>15.827539</td>\n",
       "    </tr>\n",
       "    <tr>\n",
       "      <th>min</th>\n",
       "      <td>1.000000</td>\n",
       "      <td>1.000000e+00</td>\n",
       "      <td>0.000000</td>\n",
       "      <td>5.000000e+00</td>\n",
       "      <td>0.000000</td>\n",
       "    </tr>\n",
       "    <tr>\n",
       "      <th>25%</th>\n",
       "      <td>4.000000</td>\n",
       "      <td>1.870000e+02</td>\n",
       "      <td>2400.000000</td>\n",
       "      <td>1.000000e+04</td>\n",
       "      <td>0.000000</td>\n",
       "    </tr>\n",
       "    <tr>\n",
       "      <th>50%</th>\n",
       "      <td>4.300000</td>\n",
       "      <td>5.967000e+03</td>\n",
       "      <td>9500.000000</td>\n",
       "      <td>5.000000e+05</td>\n",
       "      <td>0.000000</td>\n",
       "    </tr>\n",
       "    <tr>\n",
       "      <th>75%</th>\n",
       "      <td>4.500000</td>\n",
       "      <td>8.174700e+04</td>\n",
       "      <td>27000.000000</td>\n",
       "      <td>5.000000e+06</td>\n",
       "      <td>0.000000</td>\n",
       "    </tr>\n",
       "    <tr>\n",
       "      <th>max</th>\n",
       "      <td>5.000000</td>\n",
       "      <td>7.815831e+07</td>\n",
       "      <td>100000.000000</td>\n",
       "      <td>1.000000e+09</td>\n",
       "      <td>400.000000</td>\n",
       "    </tr>\n",
       "  </tbody>\n",
       "</table>\n",
       "</div>"
      ],
      "text/plain": [
       "            Rating       Reviews           Size      Installs        Price\n",
       "count  9353.000000  9.353000e+03    9353.000000  9.353000e+03  9353.000000\n",
       "mean      4.191254  5.147606e+05   18957.610660  1.792215e+07     0.961467\n",
       "std       0.515010  3.146169e+06   23025.327915  9.129920e+07    15.827539\n",
       "min       1.000000  1.000000e+00       0.000000  5.000000e+00     0.000000\n",
       "25%       4.000000  1.870000e+02    2400.000000  1.000000e+04     0.000000\n",
       "50%       4.300000  5.967000e+03    9500.000000  5.000000e+05     0.000000\n",
       "75%       4.500000  8.174700e+04   27000.000000  5.000000e+06     0.000000\n",
       "max       5.000000  7.815831e+07  100000.000000  1.000000e+09   400.000000"
      ]
     },
     "execution_count": 35,
     "metadata": {},
     "output_type": "execute_result"
    }
   ],
   "source": [
    "df_proj1.describe()"
   ]
  },
  {
   "cell_type": "code",
   "execution_count": 36,
   "id": "5afde9b5",
   "metadata": {},
   "outputs": [
    {
     "name": "stdout",
     "output_type": "stream",
     "text": [
      "0.0\n",
      "0.0\n"
     ]
    }
   ],
   "source": [
    "# Outlier Treatment\n",
    "Q1=np.percentile(df_proj1['Price'],25)\n",
    "Q3=np.percentile(df_proj1['Price'],75)\n",
    "print(Q1)\n",
    "print(Q3)\n",
    "IQR = Q3-Q1"
   ]
  },
  {
   "cell_type": "code",
   "execution_count": 37,
   "id": "c2a57097",
   "metadata": {
    "scrolled": false
   },
   "outputs": [
    {
     "name": "stdout",
     "output_type": "stream",
     "text": [
      "[  4.99   3.99   6.99   7.99   5.99   2.99   3.49   1.99   9.99   7.49\n",
      "   0.99   9.     5.49  10.    24.99  11.99  79.99  16.99  14.99  29.99\n",
      "  12.99   2.49  10.99   1.5   19.99  15.99  33.99  39.99   3.95   4.49\n",
      "   1.7    8.99   1.49   3.88 399.99  17.99 400.     3.02   1.76   4.84\n",
      "   4.77   1.61   2.5    1.59   6.49   1.29 299.99 379.99  37.99  18.99\n",
      " 389.99   8.49   1.75  14.     2.     3.08   2.59  19.4    3.9    4.59\n",
      "  15.46   3.04  13.99   4.29   3.28   4.6    1.     2.95   2.9    1.97\n",
      "   2.56   1.2 ]\n"
     ]
    }
   ],
   "source": [
    "outlier = df_proj1.Price[(df_proj1['Price'] > Q3+1.5*IQR) | (df_proj1['Price'] < Q1-1.5*IQR)]\n",
    "print(outlier.unique())"
   ]
  },
  {
   "cell_type": "code",
   "execution_count": 38,
   "id": "32853415",
   "metadata": {},
   "outputs": [
    {
     "data": {
      "text/plain": [
       "(9353, 13)"
      ]
     },
     "execution_count": 38,
     "metadata": {},
     "output_type": "execute_result"
    }
   ],
   "source": [
    "df_proj1.shape"
   ]
  },
  {
   "cell_type": "code",
   "execution_count": 39,
   "id": "8b13c52e",
   "metadata": {},
   "outputs": [
    {
     "data": {
      "text/plain": [
       "(15, 13)"
      ]
     },
     "execution_count": 39,
     "metadata": {},
     "output_type": "execute_result"
    }
   ],
   "source": [
    "df_proj1[df_proj1.Price>200].shape"
   ]
  },
  {
   "cell_type": "code",
   "execution_count": 40,
   "id": "8e985504",
   "metadata": {},
   "outputs": [
    {
     "name": "stdout",
     "output_type": "stream",
     "text": [
      "None\n"
     ]
    }
   ],
   "source": [
    "price_outliers = df_proj1[df_proj1.Price>200].index\n",
    "print(df_proj1.drop(labels=price_outliers, inplace=True))\n",
    "\n",
    "#I am putting all the values more than $200 from Price col into a different variable (Price_outlier) and dropping it.\n",
    "#I got 15 records where value is more than $200 in price col."
   ]
  },
  {
   "cell_type": "code",
   "execution_count": 41,
   "id": "0f64d635",
   "metadata": {},
   "outputs": [
    {
     "data": {
      "text/plain": [
       "(9338, 13)"
      ]
     },
     "execution_count": 41,
     "metadata": {},
     "output_type": "execute_result"
    }
   ],
   "source": [
    "df_proj1.shape\n",
    "#After dropping the records my new shape is 9338,13."
   ]
  },
  {
   "cell_type": "markdown",
   "id": "ad4d1fc2",
   "metadata": {},
   "source": [
    "### 6:2 Reviews: Very few apps have very high number of reviews. \n",
    "    \n",
    "These are all star apps that don’t help with the analysis and, in fact, will skew it. \n",
    "\n",
    "Drop records having more than 2 million reviews.\n",
    "\n"
   ]
  },
  {
   "cell_type": "code",
   "execution_count": 42,
   "id": "37a7219d",
   "metadata": {},
   "outputs": [
    {
     "name": "stdout",
     "output_type": "stream",
     "text": [
      "count    9.338000e+03\n",
      "mean     5.155865e+05\n",
      "std      3.148627e+06\n",
      "min      1.000000e+00\n",
      "25%      1.880000e+02\n",
      "50%      6.009000e+03\n",
      "75%      8.247100e+04\n",
      "max      7.815831e+07\n",
      "Name: Reviews, dtype: float64\n"
     ]
    }
   ],
   "source": [
    "print(df_proj1.Reviews.describe())"
   ]
  },
  {
   "cell_type": "code",
   "execution_count": 43,
   "id": "ef956333",
   "metadata": {},
   "outputs": [
    {
     "data": {
      "text/plain": [
       "(9338, 13)"
      ]
     },
     "execution_count": 43,
     "metadata": {},
     "output_type": "execute_result"
    }
   ],
   "source": [
    "df_proj1.shape"
   ]
  },
  {
   "cell_type": "code",
   "execution_count": 44,
   "id": "72d15b27",
   "metadata": {},
   "outputs": [
    {
     "name": "stdout",
     "output_type": "stream",
     "text": [
      "82283.0\n"
     ]
    }
   ],
   "source": [
    "# Outlier Treatment\n",
    "Q1 = np.percentile(df_proj1.Reviews,25)\n",
    "Q3 = np.percentile(df_proj1.Reviews,75)\n",
    "IQR = Q3-Q1\n",
    "print(IQR)"
   ]
  },
  {
   "cell_type": "code",
   "execution_count": 45,
   "id": "fa0c666c",
   "metadata": {},
   "outputs": [
    {
     "name": "stdout",
     "output_type": "stream",
     "text": [
      "(1628, 13)\n"
     ]
    }
   ],
   "source": [
    "reviews_outliers = df_proj1[(df_proj1.Reviews>Q3+1.5*IQR) | (df_proj1.Reviews<Q1-1.5*IQR)]\n",
    "print(reviews_outliers.shape)"
   ]
  },
  {
   "cell_type": "code",
   "execution_count": 46,
   "id": "fb987832",
   "metadata": {},
   "outputs": [
    {
     "data": {
      "text/plain": [
       "{'whiskers': [<matplotlib.lines.Line2D at 0x12ae08d60>,\n",
       "  <matplotlib.lines.Line2D at 0x12ae08a60>],\n",
       " 'caps': [<matplotlib.lines.Line2D at 0x12ae1a5b0>,\n",
       "  <matplotlib.lines.Line2D at 0x12ae2af70>],\n",
       " 'boxes': [<matplotlib.lines.Line2D at 0x12adf8580>],\n",
       " 'medians': [<matplotlib.lines.Line2D at 0x12ae2a580>],\n",
       " 'fliers': [<matplotlib.lines.Line2D at 0x12ae3ad60>],\n",
       " 'means': []}"
      ]
     },
     "execution_count": 46,
     "metadata": {},
     "output_type": "execute_result"
    },
    {
     "data": {
      "image/png": "[encoded data removed]",
      "text/plain": [
       "<Figure size 432x288 with 1 Axes>"
      ]
     },
     "metadata": {
      "needs_background": "light"
     },
     "output_type": "display_data"
    }
   ],
   "source": [
    "plt.boxplot(df_proj1.Reviews)"
   ]
  },
  {
   "cell_type": "code",
   "execution_count": 47,
   "id": "6dc3b536",
   "metadata": {},
   "outputs": [],
   "source": [
    "# Dropping all those values which are greater than 2 million.\n",
    "higher_values = df_proj1[df_proj1.Reviews > 2000000].index\n"
   ]
  },
  {
   "cell_type": "code",
   "execution_count": 48,
   "id": "126e8d32",
   "metadata": {},
   "outputs": [],
   "source": [
    "df_proj1.drop(labels=higher_values,inplace=True)"
   ]
  },
  {
   "cell_type": "code",
   "execution_count": 49,
   "id": "e0235baa",
   "metadata": {},
   "outputs": [
    {
     "data": {
      "text/plain": [
       "(8885, 13)"
      ]
     },
     "execution_count": 49,
     "metadata": {},
     "output_type": "execute_result"
    }
   ],
   "source": [
    "df_proj1.shape"
   ]
  },
  {
   "cell_type": "code",
   "execution_count": 50,
   "id": "1d166734",
   "metadata": {},
   "outputs": [
    {
     "data": {
      "text/plain": [
       "{'whiskers': [<matplotlib.lines.Line2D at 0x12b028d90>,\n",
       "  <matplotlib.lines.Line2D at 0x12b0282e0>],\n",
       " 'caps': [<matplotlib.lines.Line2D at 0x12b039a30>,\n",
       "  <matplotlib.lines.Line2D at 0x12b039d00>],\n",
       " 'boxes': [<matplotlib.lines.Line2D at 0x12b018550>],\n",
       " 'medians': [<matplotlib.lines.Line2D at 0x12b049550>],\n",
       " 'fliers': [<matplotlib.lines.Line2D at 0x12b05ad90>],\n",
       " 'means': []}"
      ]
     },
     "execution_count": 50,
     "metadata": {},
     "output_type": "execute_result"
    },
    {
     "data": {
      "image/png": "[encoded data removed]",
      "text/plain": [
       "<Figure size 432x288 with 1 Axes>"
      ]
     },
     "metadata": {
      "needs_background": "light"
     },
     "output_type": "display_data"
    }
   ],
   "source": [
    "plt.boxplot(df_proj1.Reviews)"
   ]
  },
  {
   "cell_type": "markdown",
   "id": "6e34039e",
   "metadata": {},
   "source": [
    "## 6:3 Installs:  There seems to be some outliers in this field too. Apps having very high number of installs should be dropped from the analysis.\n",
    "\n",
    "6:3:1 Find out the different percentiles – 10, 25, 50, 70, 90, 95, 99\n",
    "\n",
    "6:3:2 Decide a threshold as cutoff for outlier and drop records having values more than that"
   ]
  },
  {
   "cell_type": "code",
   "execution_count": 51,
   "id": "c9ae942b",
   "metadata": {},
   "outputs": [],
   "source": [
    "from scipy import stats"
   ]
  },
  {
   "cell_type": "code",
   "execution_count": 52,
   "id": "cff84d2f",
   "metadata": {},
   "outputs": [
    {
     "name": "stdout",
     "output_type": "stream",
     "text": [
      "[1.e+03 1.e+04 5.e+05 1.e+06 1.e+07 1.e+07 1.e+08]\n"
     ]
    }
   ],
   "source": [
    "#Find out the different percentiles – 10, 25, 50, 70, 90, 95, 99\n",
    "inst_percentage = np.percentile(df_proj1['Installs'],[10, 25, 50, 70, 90, 95, 99])\n",
    "print(inst_percentage)"
   ]
  },
  {
   "cell_type": "code",
   "execution_count": 53,
   "id": "d93d3b04",
   "metadata": {},
   "outputs": [
    {
     "name": "stdout",
     "output_type": "stream",
     "text": [
      "None\n"
     ]
    }
   ],
   "source": [
    "higher_values = df_proj1[df_proj1.Installs > 4000000].index\n",
    "print(df_proj1.drop(higher_values, inplace = True))\n",
    "\n",
    "#I have decided threshold value 4000000 for installs.\n",
    "# Dropped records from Installs col which have value more than 4000000."
   ]
  },
  {
   "cell_type": "code",
   "execution_count": 54,
   "id": "456e73fa",
   "metadata": {},
   "outputs": [
    {
     "data": {
      "text/plain": [
       "{'whiskers': [<matplotlib.lines.Line2D at 0x12b2377c0>,\n",
       "  <matplotlib.lines.Line2D at 0x12b249790>],\n",
       " 'caps': [<matplotlib.lines.Line2D at 0x12b257fd0>,\n",
       "  <matplotlib.lines.Line2D at 0x12b2572b0>],\n",
       " 'boxes': [<matplotlib.lines.Line2D at 0x12b237a90>],\n",
       " 'medians': [<matplotlib.lines.Line2D at 0x12b269a90>],\n",
       " 'fliers': [<matplotlib.lines.Line2D at 0x12b2697c0>],\n",
       " 'means': []}"
      ]
     },
     "execution_count": 54,
     "metadata": {},
     "output_type": "execute_result"
    },
    {
     "data": {
      "image/png": "[encoded data removed]",
      "text/plain": [
       "<Figure size 432x288 with 1 Axes>"
      ]
     },
     "metadata": {
      "needs_background": "light"
     },
     "output_type": "display_data"
    }
   ],
   "source": [
    "plt.boxplot(df_proj1.Installs)"
   ]
  },
  {
   "cell_type": "code",
   "execution_count": 55,
   "id": "48739e2e",
   "metadata": {},
   "outputs": [
    {
     "data": {
      "text/html": [
       "<div>\n",
       "<style scoped>\n",
       "    .dataframe tbody tr th:only-of-type {\n",
       "        vertical-align: middle;\n",
       "    }\n",
       "\n",
       "    .dataframe tbody tr th {\n",
       "        vertical-align: top;\n",
       "    }\n",
       "\n",
       "    .dataframe thead th {\n",
       "        text-align: right;\n",
       "    }\n",
       "</style>\n",
       "<table border=\"1\" class=\"dataframe\">\n",
       "  <thead>\n",
       "    <tr style=\"text-align: right;\">\n",
       "      <th></th>\n",
       "      <th>Rating</th>\n",
       "      <th>Reviews</th>\n",
       "      <th>Size</th>\n",
       "      <th>Installs</th>\n",
       "      <th>Price</th>\n",
       "    </tr>\n",
       "  </thead>\n",
       "  <tbody>\n",
       "    <tr>\n",
       "      <th>count</th>\n",
       "      <td>6506.000000</td>\n",
       "      <td>6506.000000</td>\n",
       "      <td>6506.000000</td>\n",
       "      <td>6506.000000</td>\n",
       "      <td>6506.000000</td>\n",
       "    </tr>\n",
       "    <tr>\n",
       "      <th>mean</th>\n",
       "      <td>4.139179</td>\n",
       "      <td>9570.197510</td>\n",
       "      <td>17686.647940</td>\n",
       "      <td>306741.901322</td>\n",
       "      <td>0.477678</td>\n",
       "    </tr>\n",
       "    <tr>\n",
       "      <th>std</th>\n",
       "      <td>0.582584</td>\n",
       "      <td>22904.190881</td>\n",
       "      <td>20629.452985</td>\n",
       "      <td>413243.643015</td>\n",
       "      <td>2.584501</td>\n",
       "    </tr>\n",
       "    <tr>\n",
       "      <th>min</th>\n",
       "      <td>1.000000</td>\n",
       "      <td>1.000000</td>\n",
       "      <td>0.000000</td>\n",
       "      <td>5.000000</td>\n",
       "      <td>0.000000</td>\n",
       "    </tr>\n",
       "    <tr>\n",
       "      <th>25%</th>\n",
       "      <td>3.900000</td>\n",
       "      <td>63.000000</td>\n",
       "      <td>3300.000000</td>\n",
       "      <td>5000.000000</td>\n",
       "      <td>0.000000</td>\n",
       "    </tr>\n",
       "    <tr>\n",
       "      <th>50%</th>\n",
       "      <td>4.200000</td>\n",
       "      <td>754.000000</td>\n",
       "      <td>9300.000000</td>\n",
       "      <td>100000.000000</td>\n",
       "      <td>0.000000</td>\n",
       "    </tr>\n",
       "    <tr>\n",
       "      <th>75%</th>\n",
       "      <td>4.500000</td>\n",
       "      <td>7960.500000</td>\n",
       "      <td>25000.000000</td>\n",
       "      <td>500000.000000</td>\n",
       "      <td>0.000000</td>\n",
       "    </tr>\n",
       "    <tr>\n",
       "      <th>max</th>\n",
       "      <td>5.000000</td>\n",
       "      <td>376223.000000</td>\n",
       "      <td>100000.000000</td>\n",
       "      <td>1000000.000000</td>\n",
       "      <td>79.990000</td>\n",
       "    </tr>\n",
       "  </tbody>\n",
       "</table>\n",
       "</div>"
      ],
      "text/plain": [
       "            Rating        Reviews           Size        Installs        Price\n",
       "count  6506.000000    6506.000000    6506.000000     6506.000000  6506.000000\n",
       "mean      4.139179    9570.197510   17686.647940   306741.901322     0.477678\n",
       "std       0.582584   22904.190881   20629.452985   413243.643015     2.584501\n",
       "min       1.000000       1.000000       0.000000        5.000000     0.000000\n",
       "25%       3.900000      63.000000    3300.000000     5000.000000     0.000000\n",
       "50%       4.200000     754.000000    9300.000000   100000.000000     0.000000\n",
       "75%       4.500000    7960.500000   25000.000000   500000.000000     0.000000\n",
       "max       5.000000  376223.000000  100000.000000  1000000.000000    79.990000"
      ]
     },
     "execution_count": 55,
     "metadata": {},
     "output_type": "execute_result"
    }
   ],
   "source": [
    "df_proj1.describe()"
   ]
  },
  {
   "cell_type": "code",
   "execution_count": 56,
   "id": "cf787f49",
   "metadata": {},
   "outputs": [
    {
     "data": {
      "text/plain": [
       "(6506, 13)"
      ]
     },
     "execution_count": 56,
     "metadata": {},
     "output_type": "execute_result"
    }
   ],
   "source": [
    "df_proj1.shape"
   ]
  },
  {
   "cell_type": "markdown",
   "id": "56ec22db",
   "metadata": {},
   "source": [
    "## 7: Bivariate analysis: Let’s look at how the available predictors relate to the variable of interest, i.e., our target variable rating. Make scatter plots (for numeric features) and box plots (for character features) to assess the relations between rating and the other features.\n",
    "\n",
    "### 7:1 Make scatter plot/joinplot for Rating vs. Price\n",
    "\n",
    "### 7:1:1 What pattern do you observe? Does rating increase with price?"
   ]
  },
  {
   "cell_type": "code",
   "execution_count": 57,
   "id": "ec01e407",
   "metadata": {},
   "outputs": [
    {
     "data": {
      "text/html": [
       "<div>\n",
       "<style scoped>\n",
       "    .dataframe tbody tr th:only-of-type {\n",
       "        vertical-align: middle;\n",
       "    }\n",
       "\n",
       "    .dataframe tbody tr th {\n",
       "        vertical-align: top;\n",
       "    }\n",
       "\n",
       "    .dataframe thead th {\n",
       "        text-align: right;\n",
       "    }\n",
       "</style>\n",
       "<table border=\"1\" class=\"dataframe\">\n",
       "  <thead>\n",
       "    <tr style=\"text-align: right;\">\n",
       "      <th></th>\n",
       "      <th>Rating</th>\n",
       "      <th>Reviews</th>\n",
       "      <th>Size</th>\n",
       "      <th>Installs</th>\n",
       "      <th>Price</th>\n",
       "    </tr>\n",
       "  </thead>\n",
       "  <tbody>\n",
       "    <tr>\n",
       "      <th>Rating</th>\n",
       "      <td>1.000000</td>\n",
       "      <td>0.143262</td>\n",
       "      <td>0.020782</td>\n",
       "      <td>0.083023</td>\n",
       "      <td>0.037068</td>\n",
       "    </tr>\n",
       "    <tr>\n",
       "      <th>Reviews</th>\n",
       "      <td>0.143262</td>\n",
       "      <td>1.000000</td>\n",
       "      <td>0.129941</td>\n",
       "      <td>0.586410</td>\n",
       "      <td>-0.035443</td>\n",
       "    </tr>\n",
       "    <tr>\n",
       "      <th>Size</th>\n",
       "      <td>0.020782</td>\n",
       "      <td>0.129941</td>\n",
       "      <td>1.000000</td>\n",
       "      <td>0.135565</td>\n",
       "      <td>0.026597</td>\n",
       "    </tr>\n",
       "    <tr>\n",
       "      <th>Installs</th>\n",
       "      <td>0.083023</td>\n",
       "      <td>0.586410</td>\n",
       "      <td>0.135565</td>\n",
       "      <td>1.000000</td>\n",
       "      <td>-0.115303</td>\n",
       "    </tr>\n",
       "    <tr>\n",
       "      <th>Price</th>\n",
       "      <td>0.037068</td>\n",
       "      <td>-0.035443</td>\n",
       "      <td>0.026597</td>\n",
       "      <td>-0.115303</td>\n",
       "      <td>1.000000</td>\n",
       "    </tr>\n",
       "  </tbody>\n",
       "</table>\n",
       "</div>"
      ],
      "text/plain": [
       "            Rating   Reviews      Size  Installs     Price\n",
       "Rating    1.000000  0.143262  0.020782  0.083023  0.037068\n",
       "Reviews   0.143262  1.000000  0.129941  0.586410 -0.035443\n",
       "Size      0.020782  0.129941  1.000000  0.135565  0.026597\n",
       "Installs  0.083023  0.586410  0.135565  1.000000 -0.115303\n",
       "Price     0.037068 -0.035443  0.026597 -0.115303  1.000000"
      ]
     },
     "execution_count": 57,
     "metadata": {},
     "output_type": "execute_result"
    }
   ],
   "source": [
    "df_proj1.corr()"
   ]
  },
  {
   "cell_type": "code",
   "execution_count": 58,
   "id": "c647c1ac",
   "metadata": {},
   "outputs": [],
   "source": [
    "import matplotlib.pyplot as plt\n",
    "import seaborn as sns"
   ]
  },
  {
   "cell_type": "code",
   "execution_count": 59,
   "id": "ffaf2024",
   "metadata": {},
   "outputs": [
    {
     "data": {
      "text/plain": [
       "Text(0.5, 1.0, 'Rating vs Price')"
      ]
     },
     "execution_count": 59,
     "metadata": {},
     "output_type": "execute_result"
    },
    {
     "data": {
      "image/png": "[encoded data removed]",
      "text/plain": [
       "<Figure size 432x288 with 1 Axes>"
      ]
     },
     "metadata": {
      "needs_background": "light"
     },
     "output_type": "display_data"
    }
   ],
   "source": [
    "#Analysis of relationship between Rating and Price\n",
    "plt.scatter(df_proj1['Rating'],df_proj1['Price'])\n",
    "plt.xlabel('Rating')\n",
    "plt.ylabel('Price')\n",
    "plt.title('Rating vs Price')"
   ]
  },
  {
   "cell_type": "markdown",
   "id": "b175eca9",
   "metadata": {},
   "source": [
    "## 7:2Make scatter plot/joinplot for Rating vs. Size\n",
    "\n",
    "### 7:2:1 Are heavier apps rated better?\n"
   ]
  },
  {
   "cell_type": "code",
   "execution_count": 60,
   "id": "a3f94026",
   "metadata": {},
   "outputs": [
    {
     "data": {
      "text/plain": [
       "<AxesSubplot:xlabel='Rating', ylabel='Size'>"
      ]
     },
     "execution_count": 60,
     "metadata": {},
     "output_type": "execute_result"
    },
    {
     "data": {
      "image/png": "[encoded data removed]",
      "text/plain": [
       "<Figure size 432x288 with 1 Axes>"
      ]
     },
     "metadata": {
      "needs_background": "light"
     },
     "output_type": "display_data"
    }
   ],
   "source": [
    "sns.scatterplot(data=df_proj1, x=\"Rating\", y=\"Size\")\n",
    "#Here I can say that not necessarily heavier app is having better Rating."
   ]
  },
  {
   "cell_type": "markdown",
   "id": "a24e690a",
   "metadata": {},
   "source": [
    "## 7:3Make scatter plot/joinplot for Rating vs. Reviews\n",
    "\n",
    "### 7:3:1 Does more review mean a better rating always?"
   ]
  },
  {
   "cell_type": "code",
   "execution_count": 61,
   "id": "c3d01483",
   "metadata": {},
   "outputs": [
    {
     "data": {
      "text/plain": [
       "<seaborn.axisgrid.JointGrid at 0x12b4ca250>"
      ]
     },
     "execution_count": 61,
     "metadata": {},
     "output_type": "execute_result"
    },
    {
     "data": {
      "image/png": "[encoded data removed]",
      "text/plain": [
       "<Figure size 432x432 with 3 Axes>"
      ]
     },
     "metadata": {
      "needs_background": "light"
     },
     "output_type": "display_data"
    }
   ],
   "source": [
    "sns.jointplot(data=df_proj1, x=\"Rating\", y=\"Reviews\")\n",
    "#As we can see below that Rating and Reviews are positively correlated. It shows, more Review means better Rating."
   ]
  },
  {
   "cell_type": "markdown",
   "id": "5f960f43",
   "metadata": {},
   "source": [
    "## 7:4 Make boxplot for Rating vs. Content Rating\n",
    "\n",
    "### 7:4:1 Is there any difference in the ratings? Are some types liked better?\n"
   ]
  },
  {
   "cell_type": "code",
   "execution_count": 62,
   "id": "c37130a8",
   "metadata": {},
   "outputs": [
    {
     "data": {
      "text/plain": [
       "Content Rating\n",
       "Adults only 18+    4.300000\n",
       "Everyone           4.137084\n",
       "Everyone 10+       4.173239\n",
       "Mature 17+         4.066561\n",
       "Teen               4.181280\n",
       "Unrated            4.100000\n",
       "Name: Rating, dtype: float64"
      ]
     },
     "execution_count": 62,
     "metadata": {},
     "output_type": "execute_result"
    }
   ],
   "source": [
    "df_proj1.groupby(['Content Rating'])['Rating'].mean()"
   ]
  },
  {
   "cell_type": "code",
   "execution_count": 63,
   "id": "33b82f2b",
   "metadata": {},
   "outputs": [
    {
     "data": {
      "text/plain": [
       "<AxesSubplot:xlabel='Content Rating', ylabel='Rating'>"
      ]
     },
     "execution_count": 63,
     "metadata": {},
     "output_type": "execute_result"
    },
    {
     "data": {
      "image/png": "[encoded data removed]",
      "text/plain": [
       "<Figure size 1080x648 with 1 Axes>"
      ]
     },
     "metadata": {
      "needs_background": "light"
     },
     "output_type": "display_data"
    }
   ],
   "source": [
    "plt.figure(figsize=(15,9))\n",
    "sns.boxplot(x ='Content Rating', y = 'Rating' , data = df_proj1)\n",
    "# By seeing below boxplot I can say that Adult only 18+ is having better Rating because it does not having outliers."
   ]
  },
  {
   "cell_type": "markdown",
   "id": "64110313",
   "metadata": {},
   "source": [
    "## 7:5 Make boxplot for Ratings vs. Category\n",
    "\n",
    "### 7:5:1 Which genre has the best ratings?\n"
   ]
  },
  {
   "cell_type": "code",
   "execution_count": 64,
   "id": "6725caeb",
   "metadata": {},
   "outputs": [
    {
     "data": {
      "text/plain": [
       "Category\n",
       "ART_AND_DESIGN         4.367308\n",
       "AUTO_AND_VEHICLES      4.176471\n",
       "BEAUTY                 4.280000\n",
       "BOOKS_AND_REFERENCE    4.329927\n",
       "BUSINESS               4.092857\n",
       "COMICS                 4.150000\n",
       "COMMUNICATION          4.032298\n",
       "DATING                 3.940237\n",
       "EDUCATION              4.344444\n",
       "ENTERTAINMENT          4.117647\n",
       "EVENTS                 4.455814\n",
       "FAMILY                 4.172035\n",
       "FINANCE                4.104089\n",
       "FOOD_AND_DRINK         4.121519\n",
       "GAME                   4.165709\n",
       "HEALTH_AND_FITNESS     4.195215\n",
       "HOUSE_AND_HOME         4.130000\n",
       "LIBRARIES_AND_DEMO     4.200000\n",
       "LIFESTYLE              4.086792\n",
       "MAPS_AND_NAVIGATION    3.968889\n",
       "MEDICAL                4.185260\n",
       "NEWS_AND_MAGAZINES     4.101714\n",
       "PARENTING              4.300000\n",
       "PERSONALIZATION        4.321459\n",
       "PHOTOGRAPHY            4.028966\n",
       "PRODUCTIVITY           4.126761\n",
       "SHOPPING               4.196721\n",
       "SOCIAL                 4.224088\n",
       "SPORTS                 4.201010\n",
       "TOOLS                  3.974312\n",
       "TRAVEL_AND_LOCAL       4.027206\n",
       "VIDEO_PLAYERS          3.920408\n",
       "WEATHER                4.229412\n",
       "Name: Rating, dtype: float64"
      ]
     },
     "execution_count": 64,
     "metadata": {},
     "output_type": "execute_result"
    }
   ],
   "source": [
    "df_proj1.groupby(['Category'])['Rating'].mean()"
   ]
  },
  {
   "cell_type": "code",
   "execution_count": 65,
   "id": "1ac674cc",
   "metadata": {},
   "outputs": [
    {
     "data": {
      "text/plain": [
       "<AxesSubplot:xlabel='Category'>"
      ]
     },
     "execution_count": 65,
     "metadata": {},
     "output_type": "execute_result"
    },
    {
     "data": {
      "image/png": "[encoded data removed]",
      "text/plain": [
       "<Figure size 1080x648 with 1 Axes>"
      ]
     },
     "metadata": {
      "needs_background": "light"
     },
     "output_type": "display_data"
    }
   ],
   "source": [
    "plt.figure(figsize=(15,9))\n",
    "df_proj1.groupby(['Category'])['Rating'].mean().plot(kind='bar')\n"
   ]
  },
  {
   "cell_type": "code",
   "execution_count": 66,
   "id": "69782281",
   "metadata": {},
   "outputs": [
    {
     "name": "stderr",
     "output_type": "stream",
     "text": [
      "/opt/anaconda3/lib/python3.8/site-packages/seaborn/_decorators.py:36: FutureWarning: Pass the following variables as keyword args: x, y. From version 0.12, the only valid positional argument will be `data`, and passing other arguments without an explicit keyword will result in an error or misinterpretation.\n",
      "  warnings.warn(\n"
     ]
    },
    {
     "data": {
      "text/plain": [
       "<AxesSubplot:xlabel='Rating', ylabel='Category'>"
      ]
     },
     "execution_count": 66,
     "metadata": {},
     "output_type": "execute_result"
    },
    {
     "data": {
      "image/png": "[encoded data removed]",
      "text/plain": [
       "<Figure size 1080x648 with 1 Axes>"
      ]
     },
     "metadata": {
      "needs_background": "light"
     },
     "output_type": "display_data"
    }
   ],
   "source": [
    "plt.figure(figsize=(15,9))\n",
    "sns.boxplot(df_proj1['Rating'], df_proj1['Category'])\n",
    "# Here by seeing boxplot I can say that Event is having best Rating."
   ]
  },
  {
   "cell_type": "markdown",
   "id": "54ff5f82",
   "metadata": {},
   "source": [
    "## 8 Data preprocessing\n",
    "\n",
    "For the steps below, create a copy of the dataframe to make all the edits. Name it inp1.\n",
    "\n",
    "### 8:1 Reviews and Install have some values that are still relatively very high.\n",
    "\n",
    "Before building a linear regression model, you need to reduce the skew.\n",
    "\n",
    "Apply log transformation (np.log1p) to Reviews and Installs."
   ]
  },
  {
   "cell_type": "code",
   "execution_count": 67,
   "id": "10d62ff5",
   "metadata": {},
   "outputs": [],
   "source": [
    "inp1= df_proj1.copy()"
   ]
  },
  {
   "cell_type": "code",
   "execution_count": 68,
   "id": "32cad1c3",
   "metadata": {},
   "outputs": [
    {
     "data": {
      "text/plain": [
       "count      6506.000000\n",
       "mean       9570.197510\n",
       "std       22904.190881\n",
       "min           1.000000\n",
       "25%          63.000000\n",
       "50%         754.000000\n",
       "75%        7960.500000\n",
       "max      376223.000000\n",
       "Name: Reviews, dtype: float64"
      ]
     },
     "execution_count": 68,
     "metadata": {},
     "output_type": "execute_result"
    }
   ],
   "source": [
    "inp1.Reviews.describe()"
   ]
  },
  {
   "cell_type": "code",
   "execution_count": 69,
   "id": "8daf4f42",
   "metadata": {},
   "outputs": [
    {
     "name": "stderr",
     "output_type": "stream",
     "text": [
      "/opt/anaconda3/lib/python3.8/site-packages/seaborn/distributions.py:2557: FutureWarning: `distplot` is a deprecated function and will be removed in a future version. Please adapt your code to use either `displot` (a figure-level function with similar flexibility) or `histplot` (an axes-level function for histograms).\n",
      "  warnings.warn(msg, FutureWarning)\n"
     ]
    },
    {
     "data": {
      "text/plain": [
       "<AxesSubplot:xlabel='Reviews', ylabel='Density'>"
      ]
     },
     "execution_count": 69,
     "metadata": {},
     "output_type": "execute_result"
    },
    {
     "data": {
      "image/png": "[encoded data removed]",
      "text/plain": [
       "<Figure size 1080x648 with 1 Axes>"
      ]
     },
     "metadata": {
      "needs_background": "light"
     },
     "output_type": "display_data"
    }
   ],
   "source": [
    "plt.figure(figsize=(15,9))\n",
    "sns.distplot(inp1.Reviews, hist=True, hist_kws=dict(ec='k')) # skewed dataset"
   ]
  },
  {
   "cell_type": "markdown",
   "id": "88cf4df0",
   "metadata": {},
   "source": [
    "### '''Here we can see that data is not normally distributed because we can see that there is a huge difference in mean and std similarlly there is relatively very heigh difference in min and max '''"
   ]
  },
  {
   "cell_type": "code",
   "execution_count": 70,
   "id": "dbbdbdfa",
   "metadata": {},
   "outputs": [],
   "source": [
    "inp1.Reviews= inp1.Reviews.apply(np.log1p)\n",
    "# Applying log function to normalize the data."
   ]
  },
  {
   "cell_type": "code",
   "execution_count": 71,
   "id": "c780de10",
   "metadata": {},
   "outputs": [
    {
     "data": {
      "text/plain": [
       "count    6506.000000\n",
       "mean        6.515563\n",
       "std         2.886707\n",
       "min         0.693147\n",
       "25%         4.158883\n",
       "50%         6.626714\n",
       "75%         8.982371\n",
       "max        12.837940\n",
       "Name: Reviews, dtype: float64"
      ]
     },
     "execution_count": 71,
     "metadata": {},
     "output_type": "execute_result"
    }
   ],
   "source": [
    "inp1.Reviews.describe()"
   ]
  },
  {
   "cell_type": "code",
   "execution_count": 72,
   "id": "69008986",
   "metadata": {},
   "outputs": [
    {
     "name": "stderr",
     "output_type": "stream",
     "text": [
      "/opt/anaconda3/lib/python3.8/site-packages/seaborn/distributions.py:2557: FutureWarning: `distplot` is a deprecated function and will be removed in a future version. Please adapt your code to use either `displot` (a figure-level function with similar flexibility) or `histplot` (an axes-level function for histograms).\n",
      "  warnings.warn(msg, FutureWarning)\n"
     ]
    },
    {
     "data": {
      "text/plain": [
       "<AxesSubplot:xlabel='Reviews', ylabel='Density'>"
      ]
     },
     "execution_count": 72,
     "metadata": {},
     "output_type": "execute_result"
    },
    {
     "data": {
      "image/png": "[encoded data removed]",
      "text/plain": [
       "<Figure size 432x288 with 1 Axes>"
      ]
     },
     "metadata": {
      "needs_background": "light"
     },
     "output_type": "display_data"
    }
   ],
   "source": [
    "sns.distplot(inp1.Reviews, hist=True, hist_kws=dict(ec='k'))"
   ]
  },
  {
   "cell_type": "markdown",
   "id": "ecb3030b",
   "metadata": {},
   "source": [
    "### Checking Installs column is normally distributed or not"
   ]
  },
  {
   "cell_type": "code",
   "execution_count": 73,
   "id": "f3382ce2",
   "metadata": {},
   "outputs": [
    {
     "data": {
      "text/plain": [
       "count       6506.000000\n",
       "mean      306741.901322\n",
       "std       413243.643015\n",
       "min            5.000000\n",
       "25%         5000.000000\n",
       "50%       100000.000000\n",
       "75%       500000.000000\n",
       "max      1000000.000000\n",
       "Name: Installs, dtype: float64"
      ]
     },
     "execution_count": 73,
     "metadata": {},
     "output_type": "execute_result"
    }
   ],
   "source": [
    "inp1.Installs.describe()"
   ]
  },
  {
   "cell_type": "code",
   "execution_count": 74,
   "id": "3fecd1ad",
   "metadata": {},
   "outputs": [
    {
     "name": "stderr",
     "output_type": "stream",
     "text": [
      "/opt/anaconda3/lib/python3.8/site-packages/seaborn/distributions.py:2557: FutureWarning: `distplot` is a deprecated function and will be removed in a future version. Please adapt your code to use either `displot` (a figure-level function with similar flexibility) or `histplot` (an axes-level function for histograms).\n",
      "  warnings.warn(msg, FutureWarning)\n"
     ]
    },
    {
     "data": {
      "text/plain": [
       "<AxesSubplot:xlabel='Installs', ylabel='Density'>"
      ]
     },
     "execution_count": 74,
     "metadata": {},
     "output_type": "execute_result"
    },
    {
     "data": {
      "image/png": "[encoded data removed]",
      "text/plain": [
       "<Figure size 1080x648 with 1 Axes>"
      ]
     },
     "metadata": {
      "needs_background": "light"
     },
     "output_type": "display_data"
    }
   ],
   "source": [
    "plt.figure(figsize=(15,9))\n",
    "sns.distplot(inp1.Installs, hist=True, hist_kws=dict(ec='k'))"
   ]
  },
  {
   "cell_type": "markdown",
   "id": "b6d1b34a",
   "metadata": {},
   "source": [
    "### '''For Installs also we can see that data is not normally distributed because we can see that there is a huge difference in mean and std similarlly there is relatively very heigh difference in min and max '''"
   ]
  },
  {
   "cell_type": "code",
   "execution_count": 75,
   "id": "e878d645",
   "metadata": {},
   "outputs": [],
   "source": [
    "inp1.Installs= inp1.Installs.apply(np.log1p)\n",
    "# Applying log function to normalize the data."
   ]
  },
  {
   "cell_type": "code",
   "execution_count": 76,
   "id": "7bd3e8cd",
   "metadata": {},
   "outputs": [
    {
     "data": {
      "text/plain": [
       "count    6506.000000\n",
       "mean       10.439688\n",
       "std         2.946528\n",
       "min         1.791759\n",
       "25%         8.517393\n",
       "50%        11.512935\n",
       "75%        13.122365\n",
       "max        13.815512\n",
       "Name: Installs, dtype: float64"
      ]
     },
     "execution_count": 76,
     "metadata": {},
     "output_type": "execute_result"
    }
   ],
   "source": [
    "inp1.Installs.describe()"
   ]
  },
  {
   "cell_type": "code",
   "execution_count": 77,
   "id": "21e0cdbf",
   "metadata": {},
   "outputs": [
    {
     "name": "stderr",
     "output_type": "stream",
     "text": [
      "/opt/anaconda3/lib/python3.8/site-packages/seaborn/distributions.py:2557: FutureWarning: `distplot` is a deprecated function and will be removed in a future version. Please adapt your code to use either `displot` (a figure-level function with similar flexibility) or `histplot` (an axes-level function for histograms).\n",
      "  warnings.warn(msg, FutureWarning)\n"
     ]
    },
    {
     "data": {
      "text/plain": [
       "<AxesSubplot:ylabel='Density'>"
      ]
     },
     "execution_count": 77,
     "metadata": {},
     "output_type": "execute_result"
    },
    {
     "data": {
      "image/png": "[encoded data removed]",
      "text/plain": [
       "<Figure size 1080x648 with 1 Axes>"
      ]
     },
     "metadata": {
      "needs_background": "light"
     },
     "output_type": "display_data"
    }
   ],
   "source": [
    "plt.figure(figsize=(15,9))\n",
    "sns.distplot([inp1.Installs],hist=True, hist_kws=dict(ec='k'))"
   ]
  },
  {
   "cell_type": "markdown",
   "id": "6c1c7c52",
   "metadata": {},
   "source": [
    "## 8:2 Drop columns App, Last Updated, Current Ver, and Android Ver. These variables are not useful for our task."
   ]
  },
  {
   "cell_type": "code",
   "execution_count": 78,
   "id": "b6aeeea2",
   "metadata": {},
   "outputs": [
    {
     "data": {
      "text/plain": [
       "Index(['App', 'Category', 'Rating', 'Reviews', 'Size', 'Installs', 'Type',\n",
       "       'Price', 'Content Rating', 'Genres', 'Last Updated', 'Current Ver',\n",
       "       'Android Ver'],\n",
       "      dtype='object')"
      ]
     },
     "execution_count": 78,
     "metadata": {},
     "output_type": "execute_result"
    }
   ],
   "source": [
    "inp1.columns"
   ]
  },
  {
   "cell_type": "code",
   "execution_count": 79,
   "id": "dd41fae5",
   "metadata": {},
   "outputs": [
    {
     "data": {
      "text/plain": [
       "(6506, 13)"
      ]
     },
     "execution_count": 79,
     "metadata": {},
     "output_type": "execute_result"
    }
   ],
   "source": [
    "inp1.shape"
   ]
  },
  {
   "cell_type": "code",
   "execution_count": 80,
   "id": "8d7b4ef1",
   "metadata": {},
   "outputs": [],
   "source": [
    "inp1.drop(['App', 'Last Updated','Current Ver','Android Ver'],axis= 1, inplace=True)\n",
    "#Dropped App, Last Updated, Current Ver, and Android Ver."
   ]
  },
  {
   "cell_type": "code",
   "execution_count": 81,
   "id": "d8dc3a61",
   "metadata": {},
   "outputs": [
    {
     "data": {
      "text/plain": [
       "Index(['Category', 'Rating', 'Reviews', 'Size', 'Installs', 'Type', 'Price',\n",
       "       'Content Rating', 'Genres'],\n",
       "      dtype='object')"
      ]
     },
     "execution_count": 81,
     "metadata": {},
     "output_type": "execute_result"
    }
   ],
   "source": [
    "inp1.columns"
   ]
  },
  {
   "cell_type": "markdown",
   "id": "a94adb34",
   "metadata": {},
   "source": [
    "## 8:3 Get dummy columns for Category, Genres, and Content Rating.\n",
    "\n",
    "This needs to be done as the models do not understand categorical data, and all data should be numeric.\n",
    "\n",
    "Dummy encoding is one way to convert character fields to numeric. Name of dataframe should be inp2.\n"
   ]
  },
  {
   "cell_type": "code",
   "execution_count": 82,
   "id": "e23e720d",
   "metadata": {},
   "outputs": [
    {
     "name": "stdout",
     "output_type": "stream",
     "text": [
      "<class 'pandas.core.frame.DataFrame'>\n",
      "Int64Index: 6506 entries, 0 to 10839\n",
      "Data columns (total 9 columns):\n",
      " #   Column          Non-Null Count  Dtype  \n",
      "---  ------          --------------  -----  \n",
      " 0   Category        6506 non-null   object \n",
      " 1   Rating          6506 non-null   float64\n",
      " 2   Reviews         6506 non-null   float64\n",
      " 3   Size            6506 non-null   float64\n",
      " 4   Installs        6506 non-null   float64\n",
      " 5   Type            6506 non-null   object \n",
      " 6   Price           6506 non-null   float64\n",
      " 7   Content Rating  6506 non-null   object \n",
      " 8   Genres          6506 non-null   object \n",
      "dtypes: float64(5), object(4)\n",
      "memory usage: 766.3+ KB\n"
     ]
    }
   ],
   "source": [
    "inp1.info()"
   ]
  },
  {
   "cell_type": "code",
   "execution_count": 83,
   "id": "f2cc9489",
   "metadata": {},
   "outputs": [
    {
     "data": {
      "text/html": [
       "<div>\n",
       "<style scoped>\n",
       "    .dataframe tbody tr th:only-of-type {\n",
       "        vertical-align: middle;\n",
       "    }\n",
       "\n",
       "    .dataframe tbody tr th {\n",
       "        vertical-align: top;\n",
       "    }\n",
       "\n",
       "    .dataframe thead th {\n",
       "        text-align: right;\n",
       "    }\n",
       "</style>\n",
       "<table border=\"1\" class=\"dataframe\">\n",
       "  <thead>\n",
       "    <tr style=\"text-align: right;\">\n",
       "      <th></th>\n",
       "      <th>Rating</th>\n",
       "      <th>Reviews</th>\n",
       "      <th>Size</th>\n",
       "      <th>Installs</th>\n",
       "      <th>Type</th>\n",
       "      <th>Price</th>\n",
       "      <th>Category_ART_AND_DESIGN</th>\n",
       "      <th>Category_AUTO_AND_VEHICLES</th>\n",
       "      <th>Category_BEAUTY</th>\n",
       "      <th>Category_BOOKS_AND_REFERENCE</th>\n",
       "      <th>...</th>\n",
       "      <th>Genres_Trivia</th>\n",
       "      <th>Genres_Video Players &amp; Editors</th>\n",
       "      <th>Genres_Weather</th>\n",
       "      <th>Genres_Word</th>\n",
       "      <th>Content Rating_Adults only 18+</th>\n",
       "      <th>Content Rating_Everyone</th>\n",
       "      <th>Content Rating_Everyone 10+</th>\n",
       "      <th>Content Rating_Mature 17+</th>\n",
       "      <th>Content Rating_Teen</th>\n",
       "      <th>Content Rating_Unrated</th>\n",
       "    </tr>\n",
       "  </thead>\n",
       "  <tbody>\n",
       "    <tr>\n",
       "      <th>0</th>\n",
       "      <td>4.1</td>\n",
       "      <td>5.075174</td>\n",
       "      <td>19000.0</td>\n",
       "      <td>9.210440</td>\n",
       "      <td>Free</td>\n",
       "      <td>0.0</td>\n",
       "      <td>1</td>\n",
       "      <td>0</td>\n",
       "      <td>0</td>\n",
       "      <td>0</td>\n",
       "      <td>...</td>\n",
       "      <td>0</td>\n",
       "      <td>0</td>\n",
       "      <td>0</td>\n",
       "      <td>0</td>\n",
       "      <td>0</td>\n",
       "      <td>1</td>\n",
       "      <td>0</td>\n",
       "      <td>0</td>\n",
       "      <td>0</td>\n",
       "      <td>0</td>\n",
       "    </tr>\n",
       "    <tr>\n",
       "      <th>1</th>\n",
       "      <td>3.9</td>\n",
       "      <td>6.875232</td>\n",
       "      <td>14000.0</td>\n",
       "      <td>13.122365</td>\n",
       "      <td>Free</td>\n",
       "      <td>0.0</td>\n",
       "      <td>1</td>\n",
       "      <td>0</td>\n",
       "      <td>0</td>\n",
       "      <td>0</td>\n",
       "      <td>...</td>\n",
       "      <td>0</td>\n",
       "      <td>0</td>\n",
       "      <td>0</td>\n",
       "      <td>0</td>\n",
       "      <td>0</td>\n",
       "      <td>1</td>\n",
       "      <td>0</td>\n",
       "      <td>0</td>\n",
       "      <td>0</td>\n",
       "      <td>0</td>\n",
       "    </tr>\n",
       "    <tr>\n",
       "      <th>4</th>\n",
       "      <td>4.3</td>\n",
       "      <td>6.875232</td>\n",
       "      <td>2800.0</td>\n",
       "      <td>11.512935</td>\n",
       "      <td>Free</td>\n",
       "      <td>0.0</td>\n",
       "      <td>1</td>\n",
       "      <td>0</td>\n",
       "      <td>0</td>\n",
       "      <td>0</td>\n",
       "      <td>...</td>\n",
       "      <td>0</td>\n",
       "      <td>0</td>\n",
       "      <td>0</td>\n",
       "      <td>0</td>\n",
       "      <td>0</td>\n",
       "      <td>1</td>\n",
       "      <td>0</td>\n",
       "      <td>0</td>\n",
       "      <td>0</td>\n",
       "      <td>0</td>\n",
       "    </tr>\n",
       "    <tr>\n",
       "      <th>5</th>\n",
       "      <td>4.4</td>\n",
       "      <td>5.123964</td>\n",
       "      <td>5600.0</td>\n",
       "      <td>10.819798</td>\n",
       "      <td>Free</td>\n",
       "      <td>0.0</td>\n",
       "      <td>1</td>\n",
       "      <td>0</td>\n",
       "      <td>0</td>\n",
       "      <td>0</td>\n",
       "      <td>...</td>\n",
       "      <td>0</td>\n",
       "      <td>0</td>\n",
       "      <td>0</td>\n",
       "      <td>0</td>\n",
       "      <td>0</td>\n",
       "      <td>1</td>\n",
       "      <td>0</td>\n",
       "      <td>0</td>\n",
       "      <td>0</td>\n",
       "      <td>0</td>\n",
       "    </tr>\n",
       "    <tr>\n",
       "      <th>6</th>\n",
       "      <td>3.8</td>\n",
       "      <td>5.187386</td>\n",
       "      <td>19000.0</td>\n",
       "      <td>10.819798</td>\n",
       "      <td>Free</td>\n",
       "      <td>0.0</td>\n",
       "      <td>1</td>\n",
       "      <td>0</td>\n",
       "      <td>0</td>\n",
       "      <td>0</td>\n",
       "      <td>...</td>\n",
       "      <td>0</td>\n",
       "      <td>0</td>\n",
       "      <td>0</td>\n",
       "      <td>0</td>\n",
       "      <td>0</td>\n",
       "      <td>1</td>\n",
       "      <td>0</td>\n",
       "      <td>0</td>\n",
       "      <td>0</td>\n",
       "      <td>0</td>\n",
       "    </tr>\n",
       "  </tbody>\n",
       "</table>\n",
       "<p>5 rows × 153 columns</p>\n",
       "</div>"
      ],
      "text/plain": [
       "   Rating   Reviews     Size   Installs  Type  Price  Category_ART_AND_DESIGN  \\\n",
       "0     4.1  5.075174  19000.0   9.210440  Free    0.0                        1   \n",
       "1     3.9  6.875232  14000.0  13.122365  Free    0.0                        1   \n",
       "4     4.3  6.875232   2800.0  11.512935  Free    0.0                        1   \n",
       "5     4.4  5.123964   5600.0  10.819798  Free    0.0                        1   \n",
       "6     3.8  5.187386  19000.0  10.819798  Free    0.0                        1   \n",
       "\n",
       "   Category_AUTO_AND_VEHICLES  Category_BEAUTY  Category_BOOKS_AND_REFERENCE  \\\n",
       "0                           0                0                             0   \n",
       "1                           0                0                             0   \n",
       "4                           0                0                             0   \n",
       "5                           0                0                             0   \n",
       "6                           0                0                             0   \n",
       "\n",
       "   ...  Genres_Trivia  Genres_Video Players & Editors  Genres_Weather  \\\n",
       "0  ...              0                               0               0   \n",
       "1  ...              0                               0               0   \n",
       "4  ...              0                               0               0   \n",
       "5  ...              0                               0               0   \n",
       "6  ...              0                               0               0   \n",
       "\n",
       "   Genres_Word  Content Rating_Adults only 18+  Content Rating_Everyone  \\\n",
       "0            0                               0                        1   \n",
       "1            0                               0                        1   \n",
       "4            0                               0                        1   \n",
       "5            0                               0                        1   \n",
       "6            0                               0                        1   \n",
       "\n",
       "   Content Rating_Everyone 10+  Content Rating_Mature 17+  \\\n",
       "0                            0                          0   \n",
       "1                            0                          0   \n",
       "4                            0                          0   \n",
       "5                            0                          0   \n",
       "6                            0                          0   \n",
       "\n",
       "   Content Rating_Teen  Content Rating_Unrated  \n",
       "0                    0                       0  \n",
       "1                    0                       0  \n",
       "4                    0                       0  \n",
       "5                    0                       0  \n",
       "6                    0                       0  \n",
       "\n",
       "[5 rows x 153 columns]"
      ]
     },
     "execution_count": 83,
     "metadata": {},
     "output_type": "execute_result"
    }
   ],
   "source": [
    "inp2 = pd.get_dummies(inp1,columns=['Category','Genres','Content Rating'])\n",
    "inp2.head()\n",
    "#Created dummy column for Category, Genres, and Content Rating, which shows numaric binary values."
   ]
  },
  {
   "cell_type": "code",
   "execution_count": 84,
   "id": "0b4600ba",
   "metadata": {},
   "outputs": [
    {
     "name": "stdout",
     "output_type": "stream",
     "text": [
      "<class 'pandas.core.frame.DataFrame'>\n",
      "Int64Index: 6506 entries, 0 to 10839\n",
      "Columns: 153 entries, Rating to Content Rating_Unrated\n",
      "dtypes: float64(5), object(1), uint8(147)\n",
      "memory usage: 1.5+ MB\n"
     ]
    }
   ],
   "source": [
    "inp2.info()"
   ]
  },
  {
   "cell_type": "markdown",
   "id": "dae7cfb3",
   "metadata": {},
   "source": [
    "## 9: Train test split  and apply 70-30 split. Name the new dataframes df_train and df_test."
   ]
  },
  {
   "cell_type": "code",
   "execution_count": 85,
   "id": "b62efdc6",
   "metadata": {},
   "outputs": [],
   "source": [
    "from sklearn.model_selection import train_test_split"
   ]
  },
  {
   "cell_type": "code",
   "execution_count": 86,
   "id": "891934b8",
   "metadata": {},
   "outputs": [
    {
     "data": {
      "text/html": [
       "<div>\n",
       "<style scoped>\n",
       "    .dataframe tbody tr th:only-of-type {\n",
       "        vertical-align: middle;\n",
       "    }\n",
       "\n",
       "    .dataframe tbody tr th {\n",
       "        vertical-align: top;\n",
       "    }\n",
       "\n",
       "    .dataframe thead th {\n",
       "        text-align: right;\n",
       "    }\n",
       "</style>\n",
       "<table border=\"1\" class=\"dataframe\">\n",
       "  <thead>\n",
       "    <tr style=\"text-align: right;\">\n",
       "      <th></th>\n",
       "      <th>Rating</th>\n",
       "      <th>Reviews</th>\n",
       "      <th>Size</th>\n",
       "      <th>Installs</th>\n",
       "      <th>Price</th>\n",
       "    </tr>\n",
       "  </thead>\n",
       "  <tbody>\n",
       "    <tr>\n",
       "      <th>Rating</th>\n",
       "      <td>1.000000</td>\n",
       "      <td>0.118196</td>\n",
       "      <td>0.020782</td>\n",
       "      <td>-0.000285</td>\n",
       "      <td>0.037068</td>\n",
       "    </tr>\n",
       "    <tr>\n",
       "      <th>Reviews</th>\n",
       "      <td>0.118196</td>\n",
       "      <td>1.000000</td>\n",
       "      <td>0.169976</td>\n",
       "      <td>0.924108</td>\n",
       "      <td>-0.063712</td>\n",
       "    </tr>\n",
       "    <tr>\n",
       "      <th>Size</th>\n",
       "      <td>0.020782</td>\n",
       "      <td>0.169976</td>\n",
       "      <td>1.000000</td>\n",
       "      <td>0.144588</td>\n",
       "      <td>0.026597</td>\n",
       "    </tr>\n",
       "    <tr>\n",
       "      <th>Installs</th>\n",
       "      <td>-0.000285</td>\n",
       "      <td>0.924108</td>\n",
       "      <td>0.144588</td>\n",
       "      <td>1.000000</td>\n",
       "      <td>-0.140013</td>\n",
       "    </tr>\n",
       "    <tr>\n",
       "      <th>Price</th>\n",
       "      <td>0.037068</td>\n",
       "      <td>-0.063712</td>\n",
       "      <td>0.026597</td>\n",
       "      <td>-0.140013</td>\n",
       "      <td>1.000000</td>\n",
       "    </tr>\n",
       "  </tbody>\n",
       "</table>\n",
       "</div>"
      ],
      "text/plain": [
       "            Rating   Reviews      Size  Installs     Price\n",
       "Rating    1.000000  0.118196  0.020782 -0.000285  0.037068\n",
       "Reviews   0.118196  1.000000  0.169976  0.924108 -0.063712\n",
       "Size      0.020782  0.169976  1.000000  0.144588  0.026597\n",
       "Installs -0.000285  0.924108  0.144588  1.000000 -0.140013\n",
       "Price     0.037068 -0.063712  0.026597 -0.140013  1.000000"
      ]
     },
     "execution_count": 86,
     "metadata": {},
     "output_type": "execute_result"
    }
   ],
   "source": [
    "inp1.corr()"
   ]
  },
  {
   "cell_type": "code",
   "execution_count": 87,
   "id": "00bda026",
   "metadata": {},
   "outputs": [],
   "source": [
    "X = inp2[['Price', 'Reviews','Size','Installs']]\n",
    "y = inp2[['Rating']]\n",
    "# since it is bivariate analysis where my dependent(target) variable is Rating and Independent variable is Price."
   ]
  },
  {
   "cell_type": "code",
   "execution_count": 88,
   "id": "312a4b9f",
   "metadata": {},
   "outputs": [],
   "source": [
    "X_train, X_test, y_train, y_test = train_test_split(X, y, train_size=0.7, random_state=120)\n",
    "#Splitting the dataset.. 70 for traing and 30 for testing."
   ]
  },
  {
   "cell_type": "code",
   "execution_count": 89,
   "id": "6175cc61",
   "metadata": {},
   "outputs": [
    {
     "name": "stdout",
     "output_type": "stream",
     "text": [
      "(4554, 4)\n",
      "(1952, 4)\n",
      "(4554, 1)\n",
      "(1952, 1)\n"
     ]
    }
   ],
   "source": [
    "print(X_train.shape)\n",
    "print(X_test.shape)\n",
    "print(y_train.shape)\n",
    "print(y_test.shape)"
   ]
  },
  {
   "cell_type": "code",
   "execution_count": 90,
   "id": "f223afb1",
   "metadata": {},
   "outputs": [
    {
     "data": {
      "text/plain": [
       "LinearRegression()"
      ]
     },
     "execution_count": 90,
     "metadata": {},
     "output_type": "execute_result"
    }
   ],
   "source": [
    "from sklearn.linear_model import LinearRegression\n",
    "lm = LinearRegression()\n",
    "lm.fit(X_train, y_train)\n",
    "#building the model"
   ]
  },
  {
   "cell_type": "code",
   "execution_count": 91,
   "id": "ab4a4fa0",
   "metadata": {},
   "outputs": [
    {
     "name": "stdout",
     "output_type": "stream",
     "text": [
      "[[-6.66813815e-03  1.68157197e-01 -1.61828114e-07 -1.51694325e-01]]\n"
     ]
    }
   ],
   "source": [
    "print(lm.coef_)\n",
    "# coefficient shows stength and direction of relation."
   ]
  },
  {
   "cell_type": "code",
   "execution_count": 92,
   "id": "7d7383b6",
   "metadata": {},
   "outputs": [
    {
     "name": "stdout",
     "output_type": "stream",
     "text": [
      "[4.62641562]\n"
     ]
    }
   ],
   "source": [
    "print(lm.intercept_)"
   ]
  },
  {
   "cell_type": "code",
   "execution_count": 93,
   "id": "5c064b3b",
   "metadata": {},
   "outputs": [
    {
     "name": "stdout",
     "output_type": "stream",
     "text": [
      "[[4.58648892]\n",
      " [4.47464847]\n",
      " [3.82537121]\n",
      " ...\n",
      " [4.31279937]\n",
      " [4.02579539]\n",
      " [4.28610111]]\n"
     ]
    }
   ],
   "source": [
    "prediction = lm.predict(X_test)\n",
    "print(prediction)"
   ]
  },
  {
   "cell_type": "code",
   "execution_count": 94,
   "id": "da8122f2",
   "metadata": {},
   "outputs": [],
   "source": [
    "from sklearn.metrics import mean_squared_error, r2_score\n",
    "mse = mean_squared_error(y_test, prediction)\n",
    "r_square = r2_score(y_test, prediction)"
   ]
  },
  {
   "cell_type": "code",
   "execution_count": 95,
   "id": "324421c9",
   "metadata": {},
   "outputs": [
    {
     "name": "stdout",
     "output_type": "stream",
     "text": [
      "0.28789394721521677\n",
      "0.09181649594033903\n"
     ]
    }
   ],
   "source": [
    "print(mse)\n",
    "print(r_square)"
   ]
  },
  {
   "cell_type": "markdown",
   "id": "8322eee3",
   "metadata": {},
   "source": [
    "### With above model it is clear that there is no correlation or zero correlation between our two variable x and y because our r-square value is very low. so we cann't say that Rating affects app in any way."
   ]
  }
 ],
 "metadata": {
  "kernelspec": {
   "display_name": "Python 3",
   "language": "python",
   "name": "python3"
  },
  "language_info": {
   "codemirror_mode": {
    "name": "ipython",
    "version": 3
   },
   "file_extension": ".py",
   "mimetype": "text/x-python",
   "name": "python",
   "nbconvert_exporter": "python",
   "pygments_lexer": "ipython3",
   "version": "3.8.8"
  }
 },
 "nbformat": 4,
 "nbformat_minor": 5
}
